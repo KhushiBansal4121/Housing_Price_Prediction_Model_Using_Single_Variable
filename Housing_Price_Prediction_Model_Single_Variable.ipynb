{
  "nbformat": 4,
  "nbformat_minor": 0,
  "metadata": {
    "colab": {
      "name": "Housing_Price_Prediction_Model_Single_Variable.ipynb",
      "provenance": [],
      "collapsed_sections": []
    },
    "kernelspec": {
      "name": "python3",
      "display_name": "Python 3"
    },
    "language_info": {
      "name": "python"
    }
  },
  "cells": [
    {
      "cell_type": "code",
      "source": [
        "from google.colab import drive\n",
        "drive.mount('/content/drive')"
      ],
      "metadata": {
        "colab": {
          "base_uri": "https://localhost:8080/"
        },
        "id": "GlNMGERgXo-9",
        "outputId": "e3084780-179f-4e98-9d1e-be47db7b9e48"
      },
      "execution_count": null,
      "outputs": [
        {
          "output_type": "stream",
          "name": "stdout",
          "text": [
            "Drive already mounted at /content/drive; to attempt to forcibly remount, call drive.mount(\"/content/drive\", force_remount=True).\n"
          ]
        }
      ]
    },
    {
      "cell_type": "code",
      "source": [
        "#import os\n",
        "#os.chdir('drive/My Drive/Colab Notebooks')"
      ],
      "metadata": {
        "id": "GjC4KALNYIwA"
      },
      "execution_count": null,
      "outputs": []
    },
    {
      "cell_type": "code",
      "execution_count": null,
      "metadata": {
        "colab": {
          "base_uri": "https://localhost:8080/"
        },
        "id": "Lyzzs49KTIda",
        "outputId": "23b3f12a-be0e-42db-d1ca-94627b7ca487"
      },
      "outputs": [
        {
          "output_type": "stream",
          "name": "stdout",
          "text": [
            "Cloning into 'ML_and_NN_course'...\n",
            "remote: Enumerating objects: 132, done.\u001b[K\n",
            "remote: Counting objects: 100% (36/36), done.\u001b[K\n",
            "remote: Compressing objects: 100% (36/36), done.\u001b[K\n",
            "remote: Total 132 (delta 5), reused 0 (delta 0), pack-reused 96\u001b[K\n",
            "Receiving objects: 100% (132/132), 9.48 MiB | 10.42 MiB/s, done.\n",
            "Resolving deltas: 100% (29/29), done.\n"
          ]
        }
      ],
      "source": [
        "!git clone https://github.com/ranjith-ms/ML_and_NN_course.git"
      ]
    },
    {
      "cell_type": "code",
      "source": [
        "import numpy as np\n",
        "import pandas as pd\n",
        "import matplotlib.pyplot as plt\n",
        "from  utils import *"
      ],
      "metadata": {
        "id": "Deq5wGtZVSbC"
      },
      "execution_count": null,
      "outputs": []
    },
    {
      "cell_type": "code",
      "source": [
        "data = pd.read_csv('train_data.csv',sep=',')\n",
        "data.head()"
      ],
      "metadata": {
        "colab": {
          "base_uri": "https://localhost:8080/",
          "height": 206
        },
        "id": "iTnPkuVJYV2p",
        "outputId": "b73b4171-4d0b-4f2b-d759-2d1bb4f0bd38"
      },
      "execution_count": null,
      "outputs": [
        {
          "output_type": "execute_result",
          "data": {
            "text/plain": [
              "   size   price\n",
              "0  1600  329900\n",
              "1  2400  369000\n",
              "2  1416  232000\n",
              "3  3000  539900\n",
              "4  1985  299900"
            ],
            "text/html": [
              "\n",
              "  <div id=\"df-4efe9351-69e5-4eaf-9c3b-05b35cee1844\">\n",
              "    <div class=\"colab-df-container\">\n",
              "      <div>\n",
              "<style scoped>\n",
              "    .dataframe tbody tr th:only-of-type {\n",
              "        vertical-align: middle;\n",
              "    }\n",
              "\n",
              "    .dataframe tbody tr th {\n",
              "        vertical-align: top;\n",
              "    }\n",
              "\n",
              "    .dataframe thead th {\n",
              "        text-align: right;\n",
              "    }\n",
              "</style>\n",
              "<table border=\"1\" class=\"dataframe\">\n",
              "  <thead>\n",
              "    <tr style=\"text-align: right;\">\n",
              "      <th></th>\n",
              "      <th>size</th>\n",
              "      <th>price</th>\n",
              "    </tr>\n",
              "  </thead>\n",
              "  <tbody>\n",
              "    <tr>\n",
              "      <th>0</th>\n",
              "      <td>1600</td>\n",
              "      <td>329900</td>\n",
              "    </tr>\n",
              "    <tr>\n",
              "      <th>1</th>\n",
              "      <td>2400</td>\n",
              "      <td>369000</td>\n",
              "    </tr>\n",
              "    <tr>\n",
              "      <th>2</th>\n",
              "      <td>1416</td>\n",
              "      <td>232000</td>\n",
              "    </tr>\n",
              "    <tr>\n",
              "      <th>3</th>\n",
              "      <td>3000</td>\n",
              "      <td>539900</td>\n",
              "    </tr>\n",
              "    <tr>\n",
              "      <th>4</th>\n",
              "      <td>1985</td>\n",
              "      <td>299900</td>\n",
              "    </tr>\n",
              "  </tbody>\n",
              "</table>\n",
              "</div>\n",
              "      <button class=\"colab-df-convert\" onclick=\"convertToInteractive('df-4efe9351-69e5-4eaf-9c3b-05b35cee1844')\"\n",
              "              title=\"Convert this dataframe to an interactive table.\"\n",
              "              style=\"display:none;\">\n",
              "        \n",
              "  <svg xmlns=\"http://www.w3.org/2000/svg\" height=\"24px\"viewBox=\"0 0 24 24\"\n",
              "       width=\"24px\">\n",
              "    <path d=\"M0 0h24v24H0V0z\" fill=\"none\"/>\n",
              "    <path d=\"M18.56 5.44l.94 2.06.94-2.06 2.06-.94-2.06-.94-.94-2.06-.94 2.06-2.06.94zm-11 1L8.5 8.5l.94-2.06 2.06-.94-2.06-.94L8.5 2.5l-.94 2.06-2.06.94zm10 10l.94 2.06.94-2.06 2.06-.94-2.06-.94-.94-2.06-.94 2.06-2.06.94z\"/><path d=\"M17.41 7.96l-1.37-1.37c-.4-.4-.92-.59-1.43-.59-.52 0-1.04.2-1.43.59L10.3 9.45l-7.72 7.72c-.78.78-.78 2.05 0 2.83L4 21.41c.39.39.9.59 1.41.59.51 0 1.02-.2 1.41-.59l7.78-7.78 2.81-2.81c.8-.78.8-2.07 0-2.86zM5.41 20L4 18.59l7.72-7.72 1.47 1.35L5.41 20z\"/>\n",
              "  </svg>\n",
              "      </button>\n",
              "      \n",
              "  <style>\n",
              "    .colab-df-container {\n",
              "      display:flex;\n",
              "      flex-wrap:wrap;\n",
              "      gap: 12px;\n",
              "    }\n",
              "\n",
              "    .colab-df-convert {\n",
              "      background-color: #E8F0FE;\n",
              "      border: none;\n",
              "      border-radius: 50%;\n",
              "      cursor: pointer;\n",
              "      display: none;\n",
              "      fill: #1967D2;\n",
              "      height: 32px;\n",
              "      padding: 0 0 0 0;\n",
              "      width: 32px;\n",
              "    }\n",
              "\n",
              "    .colab-df-convert:hover {\n",
              "      background-color: #E2EBFA;\n",
              "      box-shadow: 0px 1px 2px rgba(60, 64, 67, 0.3), 0px 1px 3px 1px rgba(60, 64, 67, 0.15);\n",
              "      fill: #174EA6;\n",
              "    }\n",
              "\n",
              "    [theme=dark] .colab-df-convert {\n",
              "      background-color: #3B4455;\n",
              "      fill: #D2E3FC;\n",
              "    }\n",
              "\n",
              "    [theme=dark] .colab-df-convert:hover {\n",
              "      background-color: #434B5C;\n",
              "      box-shadow: 0px 1px 3px 1px rgba(0, 0, 0, 0.15);\n",
              "      filter: drop-shadow(0px 1px 2px rgba(0, 0, 0, 0.3));\n",
              "      fill: #FFFFFF;\n",
              "    }\n",
              "  </style>\n",
              "\n",
              "      <script>\n",
              "        const buttonEl =\n",
              "          document.querySelector('#df-4efe9351-69e5-4eaf-9c3b-05b35cee1844 button.colab-df-convert');\n",
              "        buttonEl.style.display =\n",
              "          google.colab.kernel.accessAllowed ? 'block' : 'none';\n",
              "\n",
              "        async function convertToInteractive(key) {\n",
              "          const element = document.querySelector('#df-4efe9351-69e5-4eaf-9c3b-05b35cee1844');\n",
              "          const dataTable =\n",
              "            await google.colab.kernel.invokeFunction('convertToInteractive',\n",
              "                                                     [key], {});\n",
              "          if (!dataTable) return;\n",
              "\n",
              "          const docLinkHtml = 'Like what you see? Visit the ' +\n",
              "            '<a target=\"_blank\" href=https://colab.research.google.com/notebooks/data_table.ipynb>data table notebook</a>'\n",
              "            + ' to learn more about interactive tables.';\n",
              "          element.innerHTML = '';\n",
              "          dataTable['output_type'] = 'display_data';\n",
              "          await google.colab.output.renderOutput(dataTable, element);\n",
              "          const docLink = document.createElement('div');\n",
              "          docLink.innerHTML = docLinkHtml;\n",
              "          element.appendChild(docLink);\n",
              "        }\n",
              "      </script>\n",
              "    </div>\n",
              "  </div>\n",
              "  "
            ]
          },
          "metadata": {},
          "execution_count": 73
        }
      ]
    },
    {
      "cell_type": "code",
      "source": [
        "data.describe()"
      ],
      "metadata": {
        "colab": {
          "base_uri": "https://localhost:8080/",
          "height": 300
        },
        "id": "bUXI-e0mYmFW",
        "outputId": "33390416-d40d-453d-d186-e74515364def"
      },
      "execution_count": null,
      "outputs": [
        {
          "output_type": "execute_result",
          "data": {
            "text/plain": [
              "              size          price\n",
              "count    46.000000      46.000000\n",
              "mean   1998.434783  339119.456522\n",
              "std     803.333019  126103.418369\n",
              "min     852.000000  169900.000000\n",
              "25%    1429.500000  249900.000000\n",
              "50%    1870.000000  299900.000000\n",
              "75%    2284.500000  368875.000000\n",
              "max    4478.000000  699900.000000"
            ],
            "text/html": [
              "\n",
              "  <div id=\"df-4a82788c-4d17-417f-ad37-33cb162c3b1f\">\n",
              "    <div class=\"colab-df-container\">\n",
              "      <div>\n",
              "<style scoped>\n",
              "    .dataframe tbody tr th:only-of-type {\n",
              "        vertical-align: middle;\n",
              "    }\n",
              "\n",
              "    .dataframe tbody tr th {\n",
              "        vertical-align: top;\n",
              "    }\n",
              "\n",
              "    .dataframe thead th {\n",
              "        text-align: right;\n",
              "    }\n",
              "</style>\n",
              "<table border=\"1\" class=\"dataframe\">\n",
              "  <thead>\n",
              "    <tr style=\"text-align: right;\">\n",
              "      <th></th>\n",
              "      <th>size</th>\n",
              "      <th>price</th>\n",
              "    </tr>\n",
              "  </thead>\n",
              "  <tbody>\n",
              "    <tr>\n",
              "      <th>count</th>\n",
              "      <td>46.000000</td>\n",
              "      <td>46.000000</td>\n",
              "    </tr>\n",
              "    <tr>\n",
              "      <th>mean</th>\n",
              "      <td>1998.434783</td>\n",
              "      <td>339119.456522</td>\n",
              "    </tr>\n",
              "    <tr>\n",
              "      <th>std</th>\n",
              "      <td>803.333019</td>\n",
              "      <td>126103.418369</td>\n",
              "    </tr>\n",
              "    <tr>\n",
              "      <th>min</th>\n",
              "      <td>852.000000</td>\n",
              "      <td>169900.000000</td>\n",
              "    </tr>\n",
              "    <tr>\n",
              "      <th>25%</th>\n",
              "      <td>1429.500000</td>\n",
              "      <td>249900.000000</td>\n",
              "    </tr>\n",
              "    <tr>\n",
              "      <th>50%</th>\n",
              "      <td>1870.000000</td>\n",
              "      <td>299900.000000</td>\n",
              "    </tr>\n",
              "    <tr>\n",
              "      <th>75%</th>\n",
              "      <td>2284.500000</td>\n",
              "      <td>368875.000000</td>\n",
              "    </tr>\n",
              "    <tr>\n",
              "      <th>max</th>\n",
              "      <td>4478.000000</td>\n",
              "      <td>699900.000000</td>\n",
              "    </tr>\n",
              "  </tbody>\n",
              "</table>\n",
              "</div>\n",
              "      <button class=\"colab-df-convert\" onclick=\"convertToInteractive('df-4a82788c-4d17-417f-ad37-33cb162c3b1f')\"\n",
              "              title=\"Convert this dataframe to an interactive table.\"\n",
              "              style=\"display:none;\">\n",
              "        \n",
              "  <svg xmlns=\"http://www.w3.org/2000/svg\" height=\"24px\"viewBox=\"0 0 24 24\"\n",
              "       width=\"24px\">\n",
              "    <path d=\"M0 0h24v24H0V0z\" fill=\"none\"/>\n",
              "    <path d=\"M18.56 5.44l.94 2.06.94-2.06 2.06-.94-2.06-.94-.94-2.06-.94 2.06-2.06.94zm-11 1L8.5 8.5l.94-2.06 2.06-.94-2.06-.94L8.5 2.5l-.94 2.06-2.06.94zm10 10l.94 2.06.94-2.06 2.06-.94-2.06-.94-.94-2.06-.94 2.06-2.06.94z\"/><path d=\"M17.41 7.96l-1.37-1.37c-.4-.4-.92-.59-1.43-.59-.52 0-1.04.2-1.43.59L10.3 9.45l-7.72 7.72c-.78.78-.78 2.05 0 2.83L4 21.41c.39.39.9.59 1.41.59.51 0 1.02-.2 1.41-.59l7.78-7.78 2.81-2.81c.8-.78.8-2.07 0-2.86zM5.41 20L4 18.59l7.72-7.72 1.47 1.35L5.41 20z\"/>\n",
              "  </svg>\n",
              "      </button>\n",
              "      \n",
              "  <style>\n",
              "    .colab-df-container {\n",
              "      display:flex;\n",
              "      flex-wrap:wrap;\n",
              "      gap: 12px;\n",
              "    }\n",
              "\n",
              "    .colab-df-convert {\n",
              "      background-color: #E8F0FE;\n",
              "      border: none;\n",
              "      border-radius: 50%;\n",
              "      cursor: pointer;\n",
              "      display: none;\n",
              "      fill: #1967D2;\n",
              "      height: 32px;\n",
              "      padding: 0 0 0 0;\n",
              "      width: 32px;\n",
              "    }\n",
              "\n",
              "    .colab-df-convert:hover {\n",
              "      background-color: #E2EBFA;\n",
              "      box-shadow: 0px 1px 2px rgba(60, 64, 67, 0.3), 0px 1px 3px 1px rgba(60, 64, 67, 0.15);\n",
              "      fill: #174EA6;\n",
              "    }\n",
              "\n",
              "    [theme=dark] .colab-df-convert {\n",
              "      background-color: #3B4455;\n",
              "      fill: #D2E3FC;\n",
              "    }\n",
              "\n",
              "    [theme=dark] .colab-df-convert:hover {\n",
              "      background-color: #434B5C;\n",
              "      box-shadow: 0px 1px 3px 1px rgba(0, 0, 0, 0.15);\n",
              "      filter: drop-shadow(0px 1px 2px rgba(0, 0, 0, 0.3));\n",
              "      fill: #FFFFFF;\n",
              "    }\n",
              "  </style>\n",
              "\n",
              "      <script>\n",
              "        const buttonEl =\n",
              "          document.querySelector('#df-4a82788c-4d17-417f-ad37-33cb162c3b1f button.colab-df-convert');\n",
              "        buttonEl.style.display =\n",
              "          google.colab.kernel.accessAllowed ? 'block' : 'none';\n",
              "\n",
              "        async function convertToInteractive(key) {\n",
              "          const element = document.querySelector('#df-4a82788c-4d17-417f-ad37-33cb162c3b1f');\n",
              "          const dataTable =\n",
              "            await google.colab.kernel.invokeFunction('convertToInteractive',\n",
              "                                                     [key], {});\n",
              "          if (!dataTable) return;\n",
              "\n",
              "          const docLinkHtml = 'Like what you see? Visit the ' +\n",
              "            '<a target=\"_blank\" href=https://colab.research.google.com/notebooks/data_table.ipynb>data table notebook</a>'\n",
              "            + ' to learn more about interactive tables.';\n",
              "          element.innerHTML = '';\n",
              "          dataTable['output_type'] = 'display_data';\n",
              "          await google.colab.output.renderOutput(dataTable, element);\n",
              "          const docLink = document.createElement('div');\n",
              "          docLink.innerHTML = docLinkHtml;\n",
              "          element.appendChild(docLink);\n",
              "        }\n",
              "      </script>\n",
              "    </div>\n",
              "  </div>\n",
              "  "
            ]
          },
          "metadata": {},
          "execution_count": 74
        }
      ]
    },
    {
      "cell_type": "code",
      "source": [
        "data.plot(kind = 'scatter' , x = 'size' , y = 'price' , figsize = (10,5)) "
      ],
      "metadata": {
        "colab": {
          "base_uri": "https://localhost:8080/",
          "height": 350
        },
        "id": "l5jQ8L2CYyTS",
        "outputId": "7052705a-b949-458d-bc0a-d7e570c75c6a"
      },
      "execution_count": null,
      "outputs": [
        {
          "output_type": "execute_result",
          "data": {
            "text/plain": [
              "<matplotlib.axes._subplots.AxesSubplot at 0x7f8ff9ec2690>"
            ]
          },
          "metadata": {},
          "execution_count": 75
        },
        {
          "output_type": "display_data",
          "data": {
            "text/plain": [
              "<Figure size 720x360 with 1 Axes>"
            ],
            "image/png": "[encoded data removed]"
          },
          "metadata": {
            "needs_background": "light"
          }
        }
      ]
    },
    {
      "cell_type": "code",
      "source": [
        "data = (data - np.mean(data))/np.std(data)"
      ],
      "metadata": {
        "id": "u53Uov0AmLA5"
      },
      "execution_count": null,
      "outputs": []
    },
    {
      "cell_type": "code",
      "source": [
        "X = data.iloc[: , 0]\n",
        "print(X)"
      ],
      "metadata": {
        "colab": {
          "base_uri": "https://localhost:8080/"
        },
        "id": "n91BjhSsZK-D",
        "outputId": "a0230ff0-a513-4957-faad-1de943243045"
      },
      "execution_count": null,
      "outputs": [
        {
          "output_type": "stream",
          "name": "stdout",
          "text": [
            "0    -0.501458\n",
            "1     0.505398\n",
            "2    -0.733034\n",
            "3     1.260539\n",
            "4    -0.016909\n",
            "5    -0.584523\n",
            "6    -0.719190\n",
            "7    -0.778343\n",
            "8    -0.634866\n",
            "9    -0.073544\n",
            "10    0.001970\n",
            "11   -0.136473\n",
            "12    3.120704\n",
            "13   -0.919303\n",
            "14    0.379541\n",
            "15   -0.853857\n",
            "16   -0.959577\n",
            "17    0.768438\n",
            "18    1.299555\n",
            "19   -0.291277\n",
            "20   -0.138990\n",
            "21   -0.496423\n",
            "22   -0.045856\n",
            "23    2.380665\n",
            "24   -1.130742\n",
            "25   -0.680174\n",
            "26    0.663977\n",
            "27    0.253684\n",
            "28    0.803678\n",
            "29   -0.200660\n",
            "30   -1.256599\n",
            "31    0.052313\n",
            "32    1.432963\n",
            "33   -0.235900\n",
            "34   -0.706604\n",
            "35   -0.955801\n",
            "36    0.168101\n",
            "37    2.789700\n",
            "38    0.205858\n",
            "39   -0.420909\n",
            "40    0.301509\n",
            "41    0.715579\n",
            "42   -1.004885\n",
            "43   -1.442867\n",
            "44   -0.184298\n",
            "45   -1.001110\n",
            "Name: size, dtype: float64\n"
          ]
        }
      ]
    },
    {
      "cell_type": "code",
      "source": [
        "Y = data.iloc[: , 1]\n",
        "print(Y)"
      ],
      "metadata": {
        "colab": {
          "base_uri": "https://localhost:8080/"
        },
        "id": "6-_J3slSaEpc",
        "outputId": "c9b14076-dd65-4eb6-bb86-849d5ad676e4"
      },
      "execution_count": null,
      "outputs": [
        {
          "output_type": "stream",
          "name": "stdout",
          "text": [
            "0    -0.073918\n",
            "1     0.239571\n",
            "2    -0.858844\n",
            "3     1.609783\n",
            "4    -0.314447\n",
            "5    -0.194183\n",
            "6    -1.123433\n",
            "7    -1.019196\n",
            "8    -0.774659\n",
            "9    -0.794711\n",
            "10    0.063183\n",
            "11   -0.073124\n",
            "12    2.892604\n",
            "13   -0.635152\n",
            "14    0.888197\n",
            "15   -0.314447\n",
            "16   -1.116210\n",
            "17    1.289864\n",
            "18    2.083625\n",
            "19   -0.691275\n",
            "20   -0.674438\n",
            "21   -0.771452\n",
            "22   -0.635152\n",
            "23    1.882383\n",
            "24   -0.715328\n",
            "25    1.005254\n",
            "26    1.041334\n",
            "27    1.089439\n",
            "28   -0.314447\n",
            "29    0.086434\n",
            "30   -1.356738\n",
            "31   -0.194183\n",
            "32    1.930488\n",
            "33   -0.426694\n",
            "34   -0.715328\n",
            "35   -0.875681\n",
            "36    0.047148\n",
            "37    1.682744\n",
            "38   -0.417874\n",
            "39    0.235562\n",
            "40   -0.073918\n",
            "41   -0.201398\n",
            "42   -0.321663\n",
            "43   -1.276562\n",
            "44   -0.314447\n",
            "45   -0.798712\n",
            "Name: price, dtype: float64\n"
          ]
        }
      ]
    },
    {
      "cell_type": "code",
      "source": [
        "import statistics"
      ],
      "metadata": {
        "id": "hvNrSF8Wa7KE"
      },
      "execution_count": null,
      "outputs": []
    },
    {
      "cell_type": "code",
      "source": [
        "x = X - X.mean()\n",
        "print(x)"
      ],
      "metadata": {
        "colab": {
          "base_uri": "https://localhost:8080/"
        },
        "id": "vfy1WgxRaLAU",
        "outputId": "a4a2b71c-5187-454f-86c5-d4c127901f6b"
      },
      "execution_count": null,
      "outputs": [
        {
          "output_type": "stream",
          "name": "stdout",
          "text": [
            "0    -0.501458\n",
            "1     0.505398\n",
            "2    -0.733034\n",
            "3     1.260539\n",
            "4    -0.016909\n",
            "5    -0.584523\n",
            "6    -0.719190\n",
            "7    -0.778343\n",
            "8    -0.634866\n",
            "9    -0.073544\n",
            "10    0.001970\n",
            "11   -0.136473\n",
            "12    3.120704\n",
            "13   -0.919303\n",
            "14    0.379541\n",
            "15   -0.853857\n",
            "16   -0.959577\n",
            "17    0.768438\n",
            "18    1.299555\n",
            "19   -0.291277\n",
            "20   -0.138990\n",
            "21   -0.496423\n",
            "22   -0.045856\n",
            "23    2.380665\n",
            "24   -1.130742\n",
            "25   -0.680174\n",
            "26    0.663977\n",
            "27    0.253684\n",
            "28    0.803678\n",
            "29   -0.200660\n",
            "30   -1.256599\n",
            "31    0.052313\n",
            "32    1.432963\n",
            "33   -0.235900\n",
            "34   -0.706604\n",
            "35   -0.955801\n",
            "36    0.168101\n",
            "37    2.789700\n",
            "38    0.205858\n",
            "39   -0.420909\n",
            "40    0.301509\n",
            "41    0.715579\n",
            "42   -1.004885\n",
            "43   -1.442867\n",
            "44   -0.184298\n",
            "45   -1.001110\n",
            "Name: size, dtype: float64\n"
          ]
        }
      ]
    },
    {
      "cell_type": "code",
      "source": [
        "y = Y - Y.mean()\n",
        "print(y)"
      ],
      "metadata": {
        "colab": {
          "base_uri": "https://localhost:8080/"
        },
        "id": "PX4QklwNcYvS",
        "outputId": "b34e754a-8b94-4d67-fca8-14a9095a41e2"
      },
      "execution_count": null,
      "outputs": [
        {
          "output_type": "stream",
          "name": "stdout",
          "text": [
            "0    -0.073918\n",
            "1     0.239571\n",
            "2    -0.858844\n",
            "3     1.609783\n",
            "4    -0.314447\n",
            "5    -0.194183\n",
            "6    -1.123433\n",
            "7    -1.019196\n",
            "8    -0.774659\n",
            "9    -0.794711\n",
            "10    0.063183\n",
            "11   -0.073124\n",
            "12    2.892604\n",
            "13   -0.635152\n",
            "14    0.888197\n",
            "15   -0.314447\n",
            "16   -1.116210\n",
            "17    1.289864\n",
            "18    2.083625\n",
            "19   -0.691275\n",
            "20   -0.674438\n",
            "21   -0.771452\n",
            "22   -0.635152\n",
            "23    1.882383\n",
            "24   -0.715328\n",
            "25    1.005254\n",
            "26    1.041334\n",
            "27    1.089439\n",
            "28   -0.314447\n",
            "29    0.086434\n",
            "30   -1.356738\n",
            "31   -0.194183\n",
            "32    1.930488\n",
            "33   -0.426694\n",
            "34   -0.715328\n",
            "35   -0.875681\n",
            "36    0.047148\n",
            "37    1.682744\n",
            "38   -0.417874\n",
            "39    0.235562\n",
            "40   -0.073918\n",
            "41   -0.201398\n",
            "42   -0.321663\n",
            "43   -1.276562\n",
            "44   -0.314447\n",
            "45   -0.798712\n",
            "Name: price, dtype: float64\n"
          ]
        }
      ]
    },
    {
      "cell_type": "code",
      "source": [
        "x2 = x*x\n",
        "print(x2)"
      ],
      "metadata": {
        "colab": {
          "base_uri": "https://localhost:8080/"
        },
        "id": "biNMSkk6cdWX",
        "outputId": "982ce4dd-55e3-40b4-caf1-5209e21e305f"
      },
      "execution_count": null,
      "outputs": [
        {
          "output_type": "stream",
          "name": "stdout",
          "text": [
            "0     0.251460\n",
            "1     0.255427\n",
            "2     0.537339\n",
            "3     1.588958\n",
            "4     0.000286\n",
            "5     0.341667\n",
            "6     0.517234\n",
            "7     0.605818\n",
            "8     0.403055\n",
            "9     0.005409\n",
            "10    0.000004\n",
            "11    0.018625\n",
            "12    9.738793\n",
            "13    0.845117\n",
            "14    0.144051\n",
            "15    0.729072\n",
            "16    0.920788\n",
            "17    0.590498\n",
            "18    1.688842\n",
            "19    0.084842\n",
            "20    0.019318\n",
            "21    0.246436\n",
            "22    0.002103\n",
            "23    5.667568\n",
            "24    1.278578\n",
            "25    0.462637\n",
            "26    0.440866\n",
            "27    0.064355\n",
            "28    0.645899\n",
            "29    0.040264\n",
            "30    1.579041\n",
            "31    0.002737\n",
            "32    2.053383\n",
            "33    0.055649\n",
            "34    0.499290\n",
            "35    0.913556\n",
            "36    0.028258\n",
            "37    7.782428\n",
            "38    0.042378\n",
            "39    0.177165\n",
            "40    0.090908\n",
            "41    0.512053\n",
            "42    1.009794\n",
            "43    2.081866\n",
            "44    0.033966\n",
            "45    1.002220\n",
            "Name: size, dtype: float64\n"
          ]
        }
      ]
    },
    {
      "cell_type": "code",
      "source": [
        "y2 = y * y\n",
        "print(y2)"
      ],
      "metadata": {
        "colab": {
          "base_uri": "https://localhost:8080/"
        },
        "id": "yS3hsyYIcxdP",
        "outputId": "8f64bb95-15b6-4e1f-c4c7-0476275defdb"
      },
      "execution_count": null,
      "outputs": [
        {
          "output_type": "stream",
          "name": "stdout",
          "text": [
            "0     0.005464\n",
            "1     0.057394\n",
            "2     0.737613\n",
            "3     2.591402\n",
            "4     0.098877\n",
            "5     0.037707\n",
            "6     1.262103\n",
            "7     1.038761\n",
            "8     0.600096\n",
            "9     0.631565\n",
            "10    0.003992\n",
            "11    0.005347\n",
            "12    8.367155\n",
            "13    0.403418\n",
            "14    0.788894\n",
            "15    0.098877\n",
            "16    1.245924\n",
            "17    1.663749\n",
            "18    4.341493\n",
            "19    0.477862\n",
            "20    0.454867\n",
            "21    0.595138\n",
            "22    0.403418\n",
            "23    3.543364\n",
            "24    0.511694\n",
            "25    1.010536\n",
            "26    1.084376\n",
            "27    1.186878\n",
            "28    0.098877\n",
            "29    0.007471\n",
            "30    1.840739\n",
            "31    0.037707\n",
            "32    3.726785\n",
            "33    0.182068\n",
            "34    0.511694\n",
            "35    0.766817\n",
            "36    0.002223\n",
            "37    2.831626\n",
            "38    0.174619\n",
            "39    0.055490\n",
            "40    0.005464\n",
            "41    0.040561\n",
            "42    0.103467\n",
            "43    1.629611\n",
            "44    0.098877\n",
            "45    0.637940\n",
            "Name: price, dtype: float64\n"
          ]
        }
      ]
    },
    {
      "cell_type": "code",
      "source": [
        "xy = x * y\n",
        "print(xy)"
      ],
      "metadata": {
        "colab": {
          "base_uri": "https://localhost:8080/"
        },
        "id": "u6PTXfcQc1kW",
        "outputId": "aec15b38-e78c-4d6f-b0ad-03f27858506f"
      },
      "execution_count": null,
      "outputs": [
        {
          "output_type": "stream",
          "name": "stdout",
          "text": [
            "0     0.037067\n",
            "1     0.121079\n",
            "2     0.629562\n",
            "3     2.029195\n",
            "4     0.005317\n",
            "5     0.113504\n",
            "6     0.807962\n",
            "7     0.793284\n",
            "8     0.491804\n",
            "9     0.058446\n",
            "10    0.000124\n",
            "11    0.009979\n",
            "12    9.026959\n",
            "13    0.583897\n",
            "14    0.337107\n",
            "15    0.268493\n",
            "16    1.071089\n",
            "17    0.991181\n",
            "18    2.707785\n",
            "19    0.201352\n",
            "20    0.093740\n",
            "21    0.382967\n",
            "22    0.029125\n",
            "23    4.481323\n",
            "24    0.808852\n",
            "25   -0.683748\n",
            "26    0.691422\n",
            "27    0.276373\n",
            "28   -0.252714\n",
            "29   -0.017344\n",
            "30    1.704876\n",
            "31   -0.010158\n",
            "32    2.766318\n",
            "33    0.100657\n",
            "34    0.505454\n",
            "35    0.836977\n",
            "36    0.007926\n",
            "37    4.694351\n",
            "38   -0.086023\n",
            "39   -0.099150\n",
            "40   -0.022287\n",
            "41   -0.144116\n",
            "42    0.323234\n",
            "43    1.841910\n",
            "44    0.057952\n",
            "45    0.799598\n",
            "dtype: float64\n"
          ]
        }
      ]
    },
    {
      "cell_type": "markdown",
      "source": [
        "# y' = b0 + x'b1\n",
        "# b1 = sum(xy)/sum(x2)\n",
        "# b0 = mean(Y) - b1 * mean(X)"
      ],
      "metadata": {
        "id": "dGrytm4Nc8rR"
      }
    },
    {
      "cell_type": "code",
      "source": [
        "b1 = xy.sum() / x2.sum()\n",
        "print(b1)"
      ],
      "metadata": {
        "colab": {
          "base_uri": "https://localhost:8080/"
        },
        "id": "5Cfr3Nagc5jj",
        "outputId": "6f5757c2-16d5-4307-b7a9-d8fb44973c22"
      },
      "execution_count": null,
      "outputs": [
        {
          "output_type": "stream",
          "name": "stdout",
          "text": [
            "0.8559282529623554\n"
          ]
        }
      ]
    },
    {
      "cell_type": "code",
      "source": [
        "b0 = Y.mean() - ( b1 * X.mean())\n",
        "print(b0)\n"
      ],
      "metadata": {
        "colab": {
          "base_uri": "https://localhost:8080/"
        },
        "id": "pJYXV8tQdjKf",
        "outputId": "2c445894-821c-465c-aff0-1166f393a277"
      },
      "execution_count": null,
      "outputs": [
        {
          "output_type": "stream",
          "name": "stdout",
          "text": [
            "7.53506572595353e-17\n"
          ]
        }
      ]
    },
    {
      "cell_type": "code",
      "source": [
        "x_ = float(input(\"Enter the size of your desired house :- \"))"
      ],
      "metadata": {
        "colab": {
          "base_uri": "https://localhost:8080/"
        },
        "id": "zzHje0EXd9C2",
        "outputId": "a3c90723-3672-4aba-9c51-7ad9108e1d3e"
      },
      "execution_count": null,
      "outputs": [
        {
          "name": "stdout",
          "output_type": "stream",
          "text": [
            "Enter the size of your desired house :- 1600\n"
          ]
        }
      ]
    },
    {
      "cell_type": "code",
      "source": [
        "y_ = b0 + ( b1 * x )\n",
        "print(y_)"
      ],
      "metadata": {
        "colab": {
          "base_uri": "https://localhost:8080/"
        },
        "id": "axf7fnKvdr1R",
        "outputId": "f0afa410-7459-4e42-f0a7-07cfd84de776"
      },
      "execution_count": null,
      "outputs": [
        {
          "output_type": "stream",
          "name": "stdout",
          "text": [
            "0    -0.429212\n",
            "1     0.432584\n",
            "2    -0.627425\n",
            "3     1.078931\n",
            "4    -0.014473\n",
            "5    -0.500310\n",
            "6    -0.615575\n",
            "7    -0.666206\n",
            "8    -0.543400\n",
            "9    -0.062949\n",
            "10    0.001686\n",
            "11   -0.116811\n",
            "12    2.671099\n",
            "13   -0.786857\n",
            "14    0.324860\n",
            "15   -0.730840\n",
            "16   -0.821329\n",
            "17    0.657728\n",
            "18    1.112326\n",
            "19   -0.249312\n",
            "20   -0.118965\n",
            "21   -0.424903\n",
            "22   -0.039249\n",
            "23    2.037679\n",
            "24   -0.967834\n",
            "25   -0.582181\n",
            "26    0.568317\n",
            "27    0.217135\n",
            "28    0.687891\n",
            "29   -0.171750\n",
            "30   -1.075559\n",
            "31    0.044776\n",
            "32    1.226513\n",
            "33   -0.201913\n",
            "34   -0.604803\n",
            "35   -0.818097\n",
            "36    0.143882\n",
            "37    2.387783\n",
            "38    0.176200\n",
            "39   -0.360268\n",
            "40    0.258070\n",
            "41    0.612484\n",
            "42   -0.860110\n",
            "43   -1.234991\n",
            "44   -0.157746\n",
            "45   -0.856878\n",
            "Name: size, dtype: float64\n"
          ]
        }
      ]
    },
    {
      "cell_type": "code",
      "source": [
        "Rxy = (xy.sum()) / pow((x2.sum() * y2.sum()),0.5)\n",
        "print(Rxy*100,\"%\")"
      ],
      "metadata": {
        "colab": {
          "base_uri": "https://localhost:8080/"
        },
        "id": "epXLwyE-e3gi",
        "outputId": "fbea73cd-660c-4481-d424-44a23184dd71"
      },
      "execution_count": null,
      "outputs": [
        {
          "output_type": "stream",
          "name": "stdout",
          "text": [
            "85.59282529623553 %\n"
          ]
        }
      ]
    },
    {
      "cell_type": "code",
      "source": [
        "N = len(data)\n",
        "print(N)"
      ],
      "metadata": {
        "colab": {
          "base_uri": "https://localhost:8080/"
        },
        "id": "W8DX1HgnpYYm",
        "outputId": "0b43e211-e47b-450a-d6c0-0a577a54e04c"
      },
      "execution_count": null,
      "outputs": [
        {
          "output_type": "stream",
          "name": "stdout",
          "text": [
            "46\n"
          ]
        }
      ]
    },
    {
      "cell_type": "code",
      "source": [
        "abc = pow((y - ((b1*x)+b0)),2)\n",
        "print(abc)\n",
        "MSE = abc.sum() / N\n",
        "print(MSE)"
      ],
      "metadata": {
        "colab": {
          "base_uri": "https://localhost:8080/"
        },
        "id": "2F1nrVqEp3tk",
        "outputId": "e49e6cc5-ad72-47ba-9e25-209a396b30da"
      },
      "execution_count": null,
      "outputs": [
        {
          "output_type": "stream",
          "name": "stdout",
          "text": [
            "0     0.126234\n",
            "1     0.037254\n",
            "2     0.053555\n",
            "3     0.281804\n",
            "4     0.089985\n",
            "5     0.093714\n",
            "6     0.257920\n",
            "7     0.124602\n",
            "8     0.053481\n",
            "9     0.535476\n",
            "10    0.003782\n",
            "11    0.001909\n",
            "12    0.049064\n",
            "13    0.023014\n",
            "14    0.317349\n",
            "15    0.173383\n",
            "16    0.086955\n",
            "17    0.399596\n",
            "18    0.943423\n",
            "19    0.195332\n",
            "20    0.308550\n",
            "21    0.120096\n",
            "22    0.355100\n",
            "23    0.024117\n",
            "24    0.063759\n",
            "25    2.519949\n",
            "26    0.223745\n",
            "27    0.760915\n",
            "28    1.004681\n",
            "29    0.066659\n",
            "30    0.079062\n",
            "31    0.057101\n",
            "32    0.495581\n",
            "33    0.050526\n",
            "34    0.012216\n",
            "35    0.003316\n",
            "36    0.009358\n",
            "37    0.497081\n",
            "38    0.352924\n",
            "39    0.355014\n",
            "40    0.110216\n",
            "41    0.662404\n",
            "42    0.289925\n",
            "43    0.001728\n",
            "44    0.024555\n",
            "45    0.003383\n",
            "dtype: float64\n",
            "0.2673868257808104\n"
          ]
        }
      ]
    },
    {
      "cell_type": "code",
      "source": [
        "fig, ax = plt.subplots(figsize=(10,5))\n",
        "ax.plot(x , y_ , 'r', label='Prediction')\n",
        "ax.scatter(data['size'],data.price, label='Training Data')\n",
        "ax.legend(loc=2)\n",
        "ax.set_xlabel('Size')\n",
        "ax.set_ylabel('Price')\n",
        "ax.set_title('Predicted Price vs. Size')"
      ],
      "metadata": {
        "colab": {
          "base_uri": "https://localhost:8080/",
          "height": 367
        },
        "id": "G-M1DQjqkeI4",
        "outputId": "3f6179b6-8aad-494d-878e-9968743b30f1"
      },
      "execution_count": null,
      "outputs": [
        {
          "output_type": "execute_result",
          "data": {
            "text/plain": [
              "Text(0.5, 1.0, 'Predicted Price vs. Size')"
            ]
          },
          "metadata": {},
          "execution_count": 90
        },
        {
          "output_type": "display_data",
          "data": {
            "text/plain": [
              "<Figure size 720x360 with 1 Axes>"
            ],
            "image/png": "[encoded data removed]"
          },
          "metadata": {
            "needs_background": "light"
          }
        }
      ]
    },
    {
      "cell_type": "code",
      "source": [
        "num_iters = 46\n",
        "fig, ax = plt.subplots(figsize=(12,8))\n",
        "ax.plot(np.arange(num_iters),abc,'r')\n",
        "ax.set_xlabel('Iterations')\n",
        "ax.set_ylabel('Cost')\n",
        "ax.set_title('MSE vs. Iterations')"
      ],
      "metadata": {
        "colab": {
          "base_uri": "https://localhost:8080/",
          "height": 466
        },
        "id": "xhWyt8jHn5-0",
        "outputId": "523b0639-da0b-4dfd-f624-c09782e7aea4"
      },
      "execution_count": null,
      "outputs": [
        {
          "output_type": "execute_result",
          "data": {
            "text/plain": [
              "Text(0.5, 1.0, 'MSE vs. Iterations')"
            ]
          },
          "metadata": {},
          "execution_count": 113
        },
        {
          "output_type": "display_data",
          "data": {
            "text/plain": [
              "<Figure size 864x576 with 1 Axes>"
            ],
            "image/png": "[encoded data removed]"
          },
          "metadata": {
            "needs_background": "light"
          }
        }
      ]
    }
  ]
}